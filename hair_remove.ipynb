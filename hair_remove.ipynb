{
  "nbformat": 4,
  "nbformat_minor": 0,
  "metadata": {
    "colab": {
      "provenance": [],
      "gpuType": "T4"
    },
    "kernelspec": {
      "name": "python3",
      "display_name": "Python 3"
    },
    "language_info": {
      "name": "python"
    },
    "accelerator": "GPU"
  },
  "cells": [
    {
      "cell_type": "code",
      "execution_count": 2,
      "metadata": {
        "colab": {
          "base_uri": "https://localhost:8080/"
        },
        "id": "V_eJkpJgRwNr",
        "outputId": "c69ff446-53f4-480d-d14a-b52f02131028"
      },
      "outputs": [
        {
          "output_type": "stream",
          "name": "stdout",
          "text": [
            "Mounted at /content/drive\n"
          ]
        }
      ],
      "source": [
        "from google.colab import drive\n",
        "drive.mount('/content/drive')"
      ]
    },
    {
      "cell_type": "code",
      "source": [
        "import os\n",
        "import matplotlib.pyplot as plt\n",
        "import cv2\n",
        "from skimage import io"
      ],
      "metadata": {
        "id": "Hfy1CYqpSdqA"
      },
      "execution_count": 1,
      "outputs": []
    },
    {
      "cell_type": "code",
      "source": [
        "for i in range(len(os.listdir('/content/drive/MyDrive/ISIC2019/ISIC_2019_Training_Input/ISIC'))):\n",
        "    src = io.imread(os.path.join('/content/drive/MyDrive/ISIC2019/ISIC_2019_Training_Input/ISIC',  os.listdir('/content/drive/MyDrive/ISIC2019/ISIC_2019_Training_Input/ISIC')[i]))\n",
        "    grayScale = cv2.cvtColor( src, cv2.COLOR_RGB2GRAY )\n",
        "    blackhat = cv2.morphologyEx(grayScale, cv2.MORPH_BLACKHAT, cv2.getStructuringElement(1,(17,17)))\n",
        "    ret,thresh2 = cv2.threshold(blackhat,10,255,cv2.THRESH_BINARY)\n",
        "    dst = cv2.inpaint(src,thresh2,1,cv2.INPAINT_TELEA)\n",
        "    rgb = cv2.cvtColor(dst, cv2.COLOR_RGB2BGR)\n",
        "    cv2.imwrite('/content/drive/MyDrive/ISIC2019/removed_hair/'+  os.listdir('/content/drive/MyDrive/ISIC2019/ISIC_2019_Training_Input/ISIC')[i], rgb, [int(cv2.IMWRITE_JPEG_QUALITY), 90])"
      ],
      "metadata": {
        "id": "Eui2_LbZR93-"
      },
      "execution_count": null,
      "outputs": []
    },
    {
      "cell_type": "code",
      "source": [],
      "metadata": {
        "id": "Dy1FvIAA4-AH"
      },
      "execution_count": null,
      "outputs": []
    }
  ]
}